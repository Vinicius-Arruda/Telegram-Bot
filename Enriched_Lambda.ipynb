{
  "nbformat": 4,
  "nbformat_minor": 0,
  "metadata": {
    "colab": {
      "name": "Enriched Lambda.ipynb",
      "provenance": []
    },
    "kernelspec": {
      "name": "python3",
      "display_name": "Python 3"
    },
    "language_info": {
      "name": "python"
    }
  },
  "cells": [
    {
      "cell_type": "code",
      "execution_count": null,
      "metadata": {
        "id": "mZeM-lqrSsXo"
      },
      "outputs": [],
      "source": [
        "import json\n",
        "from datetime import datetime\n",
        "\n",
        "import boto3\n",
        "import pendulum\n",
        "import pyarrow as pa\n",
        "import pyarrow.parquet as pq\n",
        "from botocore.exceptions import ClientError\n",
        "\n",
        "from util.log import Log\n",
        "from settings.aws_settings import AWSSettings\n",
        "\n",
        "\n",
        "def lambda_handler(event: dict, context: dict) -> bool:\n",
        "\n",
        "    log = Log.setup(name='logger')\n",
        "    aws_settings = AWSSettings()\n",
        "\n",
        "    timezone = pendulum.timezone('America/Sao_Paulo')\n",
        "    date = datetime.now(tz=timezone).strftime('%Y-%m-%d')\n",
        "    timestamp = datetime.now(tz=timezone).strftime('%Y%m%d%H%M%S')\n",
        "\n",
        "    try:\n",
        "\n",
        "        raw_key = event['Records'][0]['s3']['object']['key']\n",
        "        raw_bucket = event['Records'][0]['s3']['bucket']['name']\n",
        "\n",
        "        enriched_bucket = aws_settings.enriched_bucket\n",
        "        root_path = aws_settings.root_path\n",
        "\n",
        "        client = boto3.client('s3')\n",
        "        client.download_file(raw_bucket, raw_key, f\"{root_path}/{raw_key.split('/')[-1]}\")\n",
        "\n",
        "        with open(f\"{root_path}/{raw_key.split('/')[-1]}\", mode='r', encoding='utf8') as fp:\n",
        "            data = json.load(fp)\n",
        "            data = data[\"message\"]\n",
        "\n",
        "        parsed_data = dict()\n",
        "        for key, value in data.items():\n",
        "            if key == 'from' or key == 'chat':\n",
        "                for k, v in data[key].items():\n",
        "                    parsed_data[f\"{key if key == 'chat' else 'user'}_{k}\"] = [v]\n",
        "            else:\n",
        "                parsed_data[key] = [value]\n",
        "        parsed_data['context_date'] = [date]\n",
        "        parsed_data['context_timestamp'] = [timestamp]\n",
        "\n",
        "        try:\n",
        "            table = pa.Table.from_pydict(mapping=parsed_data)\n",
        "            pq.write_table(table=table, where=f'{root_path}/{timestamp}.parquet')\n",
        "            client.upload_file(f\"{root_path}/{timestamp}.parquet\", enriched_bucket, f\"context_date={date}/{timestamp}.parquet\")\n",
        "        except ClientError as exc:\n",
        "            raise exc\n",
        "\n",
        "        return True\n",
        "    except Exception as exc:\n",
        "        log.error(msg=exc)\n",
        "        return False"
      ]
    }
  ]
}